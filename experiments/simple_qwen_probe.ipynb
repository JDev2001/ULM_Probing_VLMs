{
 "cells": [
  {
   "cell_type": "code",
   "execution_count": null,
   "id": "0bdb310b",
   "metadata": {},
   "outputs": [
    {
     "name": "stderr",
     "output_type": "stream",
     "text": [
      "h:\\Users\\Jona\\Dokumente\\Evuloc\\ULM_Probing_VLMs\\.venv\\Lib\\site-packages\\tqdm\\auto.py:21: TqdmWarning: IProgress not found. Please update jupyter and ipywidgets. See https://ipywidgets.readthedocs.io/en/stable/user_install.html\n",
      "  from .autonotebook import tqdm as notebook_tqdm\n"
     ]
    },
    {
     "ename": "",
     "evalue": "",
     "output_type": "error",
     "traceback": [
      "\u001b[1;31mThe Kernel crashed while executing code in the current cell or a previous cell. \n",
      "\u001b[1;31mPlease review the code in the cell(s) to identify a possible cause of the failure. \n",
      "\u001b[1;31mClick <a href='https://aka.ms/vscodeJupyterKernelCrash'>here</a> for more info. \n",
      "\u001b[1;31mView Jupyter <a href='command:jupyter.viewOutput'>log</a> for further details."
     ]
    }
   ],
   "source": [
    "import importlib\n",
    "import numpy as np\n",
    "import os, sys\n",
    "os.environ[\"PYTHONPATH\"] = \"../\"\n",
    "sys.path.insert(0, \"../\")\n",
    "\n",
    "from src.vllm.qwen import QwenVLProbe\n",
    "import torch\n",
    "\n",
    "from src.data.dataset_loader import DSLoader\n",
    "from src.probes.classifier import build_classifier\n",
    "from src.probes.trainer import Trainer, RunConfig\n",
    "import torch\n",
    "from torch.utils.data import DataLoader, TensorDataset"
   ]
  },
  {
   "cell_type": "code",
   "execution_count": null,
   "id": "a8a39091",
   "metadata": {},
   "outputs": [],
   "source": [
    "ds_loader = DSLoader(split=\"train\")\n",
    "ds = ds_loader.get_caption_ds()"
   ]
  },
  {
   "cell_type": "code",
   "execution_count": null,
   "id": "3a6bff1f",
   "metadata": {},
   "outputs": [],
   "source": [
    "ds_loader = DSLoader(split=\"train\")\n",
    "ds2 = ds_loader.get_category_ds()"
   ]
  },
  {
   "cell_type": "code",
   "execution_count": null,
   "id": "e273a959",
   "metadata": {},
   "outputs": [
    {
     "name": "stderr",
     "output_type": "stream",
     "text": [
      "Loading checkpoint shards: 100%|██████████| 2/2 [00:00<00:00, 13.61it/s]\n",
      "The image processor of type `Qwen2VLImageProcessor` is now loaded as a fast processor by default, even if the model checkpoint was saved with a slow processor. This is a breaking change and may produce slightly different outputs. To continue using the slow processor, instantiate this class with `use_fast=False`. Note that this behavior will be extended to all models in a future release.\n",
      "You have video processor config saved in `preprocessor.json` file which is deprecated. Video processor configs should be saved in their own `video_preprocessor.json` file. You can rename the file or load and save the processor back which renames it automatically. Loading from `preprocessor.json` will be removed in v5.0.\n"
     ]
    }
   ],
   "source": [
    "import src.vllm.qwen\n",
    "\n",
    "device = \"cpu\"\n",
    "model_name = \"Qwen/Qwen2.5-3B-Instruct\"\n",
    "\n",
    "probe = QwenVLProbe(model_name=\"Qwen/Qwen2-VL-2B-Instruct\", device=\"cpu\")\n",
    "\n",
    "def get_repr(text,img):\n",
    "    messages = [\n",
    "        {\n",
    "            \"role\": \"user\",\n",
    "            \"content\": [\n",
    "                {\n",
    "                    \"type\": \"image\",\n",
    "                    \"image\": img,\n",
    "                },\n",
    "                {\"type\": \"text\", \"text\": text},\n",
    "            ],\n",
    "        }\n",
    "    ]\n",
    "\n",
    "    hidden_out, label_out = probe.get_hidden_states_batched(\n",
    "        examples=[{\"label\":0, \"messages\":messages}],\n",
    "        output_layer=\"CLS\",\n",
    "        dataset_type=\"test\",\n",
    "        return_layer=None,\n",
    "        progress_callback=None,\n",
    "        batch_size=8,\n",
    "        device=device,\n",
    "    )\n",
    "    return hidden_out, label_out\n",
    "\n",
    "\n",
    "def get_repr_for_layer(hidden_out, layer_num):\n",
    "    return hidden_out[:, layer_num, :]\n",
    "\n",
    "reprs = []\n",
    "labels = []\n",
    "\n",
    "num_dataset_items = 5\n",
    "for i in range(num_dataset_items):\n",
    "    hidden_out, label_out = get_repr(f\"This image contains: {ds[i]['caption_pos']}\", ds[i]['url'])\n",
    "    reprs.append(hidden_out)\n",
    "    labels.append(1)\n",
    "    \n",
    "for i in range(num_dataset_items):\n",
    "    hidden_out, label_out = get_repr(f\"This image contains: {ds[i]['caption_neg']}\", ds[i]['url'])\n",
    "    reprs.append(hidden_out)\n",
    "    labels.append(0)\n"
   ]
  },
  {
   "cell_type": "code",
   "execution_count": null,
   "id": "6a40615f",
   "metadata": {},
   "outputs": [],
   "source": [
    "layer_repr = [get_repr_for_layer(h,3)for h in reprs] #e.g Layer 3 "
   ]
  },
  {
   "cell_type": "code",
   "execution_count": null,
   "id": "db10b29d",
   "metadata": {},
   "outputs": [],
   "source": [
    "X = torch.stack([r.squeeze(0) for r in layer_repr]).to(torch.float32)\n",
    "y = torch.tensor(labels, dtype=torch.long)\n",
    "\n",
    "dataset = TensorDataset(X, y)"
   ]
  },
  {
   "cell_type": "code",
   "execution_count": null,
   "id": "d7ce5f2d",
   "metadata": {},
   "outputs": [
    {
     "name": "stderr",
     "output_type": "stream",
     "text": [
      "h:\\Users\\Jona\\Dokumente\\Evuloc\\ULM_Probing_VLMs\\experiments\\..\\src\\probes\\trainer.py:50: FutureWarning: `torch.cuda.amp.GradScaler(args...)` is deprecated. Please use `torch.amp.GradScaler('cuda', args...)` instead.\n",
      "  self.scaler = torch.cuda.amp.GradScaler(enabled=config.mixed_precision)\n"
     ]
    },
    {
     "name": "stdout",
     "output_type": "stream",
     "text": [
      "Starting training for None epochs on device cuda\n"
     ]
    },
    {
     "name": "stderr",
     "output_type": "stream",
     "text": [
      "Training Epochs:   0%|          | 0/100 [00:00<?, ?it/s]h:\\Users\\Jona\\Dokumente\\Evuloc\\ULM_Probing_VLMs\\experiments\\..\\src\\probes\\trainer.py:77: FutureWarning: `torch.cuda.amp.autocast(args...)` is deprecated. Please use `torch.amp.autocast('cuda', args...)` instead.\n",
      "  with torch.cuda.amp.autocast(enabled=self.config.mixed_precision):\n",
      "Training Epochs: 100%|██████████| 100/100 [00:05<00:00, 19.97it/s]\n"
     ]
    }
   ],
   "source": [
    "device = \"cuda\" if torch.cuda.is_available() else \"cpu\"\n",
    "num_labels = 2\n",
    "model_name = \"Qwen/Qwen2-VL-2B-Instruct_Test\"\n",
    "\n",
    "emb_dim = layer_repr[0].shape[1] \n",
    "model_head, criterion, optimizer = build_classifier(emb_dim, num_labels, device, lr=1e-3, dropout=0.1)\n",
    "\n",
    "config = RunConfig(\n",
    "    model_name=model_name,\n",
    "    device=device,\n",
    "    lr=1e-3,\n",
    "    dropout=0.1,\n",
    "    epochs=100,\n",
    "    log_interval=20,\n",
    "    mixed_precision=False\n",
    ")\n",
    "\n",
    "\n",
    "train_loader = DataLoader(dataset, batch_size=16, shuffle=True)\n",
    "val_loader = DataLoader(dataset, batch_size=16, shuffle=True)\n",
    "\n",
    "trainer = Trainer(model_head, criterion, optimizer, config)\n",
    "trainer.fit(train_loader, val_loader)"
   ]
  }
 ],
 "metadata": {
  "kernelspec": {
   "display_name": "ulm-probing-vlms",
   "language": "python",
   "name": "python3"
  },
  "language_info": {
   "codemirror_mode": {
    "name": "ipython",
    "version": 3
   },
   "file_extension": ".py",
   "mimetype": "text/x-python",
   "name": "python",
   "nbconvert_exporter": "python",
   "pygments_lexer": "ipython3",
   "version": "3.11.11"
  }
 },
 "nbformat": 4,
 "nbformat_minor": 5
}
